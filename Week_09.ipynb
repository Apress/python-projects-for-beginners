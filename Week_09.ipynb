{
 "cells": [
  {
   "cell_type": "markdown",
   "metadata": {},
   "source": [
    "# Generators and Iterators"
   ]
  },
  {
   "cell_type": "code",
   "execution_count": 20,
   "metadata": {},
   "outputs": [
    {
     "name": "stdout",
     "output_type": "stream",
     "text": [
      "baseball\n",
      "soccer\n",
      "football\n",
      "hockey\n",
      "basketball\n"
     ]
    },
    {
     "ename": "StopIteration",
     "evalue": "",
     "output_type": "error",
     "traceback": [
      "\u001b[1;31m---------------------------------------------------------------------------\u001b[0m",
      "\u001b[1;31mStopIteration\u001b[0m                             Traceback (most recent call last)",
      "\u001b[1;32m<ipython-input-20-50694ea25a70>\u001b[0m in \u001b[0;36m<module>\u001b[1;34m()\u001b[0m\n\u001b[0;32m     11\u001b[0m     \u001b[0mprint\u001b[0m\u001b[1;33m(\u001b[0m\u001b[0mitem\u001b[0m\u001b[1;33m)\u001b[0m\u001b[1;33m\u001b[0m\u001b[0m\n\u001b[0;32m     12\u001b[0m \u001b[1;33m\u001b[0m\u001b[0m\n\u001b[1;32m---> 13\u001b[1;33m \u001b[0mprint\u001b[0m\u001b[1;33m(\u001b[0m\u001b[0mnext\u001b[0m\u001b[1;33m(\u001b[0m\u001b[0mmy_iter\u001b[0m\u001b[1;33m)\u001b[0m\u001b[1;33m)\u001b[0m\u001b[1;33m\u001b[0m\u001b[0m\n\u001b[0m",
      "\u001b[1;31mStopIteration\u001b[0m: "
     ]
    }
   ],
   "source": [
    "# creating a basic iterator from an iterable\n",
    "\n",
    "sports = ['baseball', 'soccer', 'football', 'hockey', 'basketball']\n",
    "\n",
    "my_iter = iter(sports)\n",
    "\n",
    "print(next(my_iter))\n",
    "print(next(my_iter))\n",
    "\n",
    "for item in my_iter:\n",
    "    print(item)\n",
    "    \n",
    "print(next(my_iter))"
   ]
  },
  {
   "cell_type": "code",
   "execution_count": 22,
   "metadata": {},
   "outputs": [
    {
     "name": "stdout",
     "output_type": "stream",
     "text": [
      "a\n",
      "b\n",
      "c\n",
      "d\n",
      "e\n",
      "f\n",
      "g\n",
      "h\n",
      "i\n",
      "j\n",
      "k\n",
      "l\n",
      "m\n",
      "n\n",
      "o\n",
      "p\n",
      "q\n",
      "r\n",
      "s\n",
      "t\n",
      "u\n",
      "v\n",
      "w\n",
      "x\n",
      "y\n",
      "z\n"
     ]
    }
   ],
   "source": [
    "# creating our own iterator\n",
    "\n",
    "class Alphabet():\n",
    "    def __iter__(self):\n",
    "        self.letters = 'abcdefghijklmnopqrstuvwxyz'\n",
    "        self.index = 0\n",
    "        return self\n",
    "    \n",
    "    def __next__(self):\n",
    "        if self.index <= 25:\n",
    "            char = self.letters[self.index]\n",
    "            self.index += 1\n",
    "            return char\n",
    "        else:\n",
    "            raise StopIteration\n",
    "    \n",
    "for char in Alphabet():\n",
    "    print(char)"
   ]
  },
  {
   "cell_type": "code",
   "execution_count": 14,
   "metadata": {},
   "outputs": [
    {
     "name": "stdout",
     "output_type": "stream",
     "text": [
      "Generator Start Value: 0\n",
      "For Loop X Value: 0\n",
      "Generator Start Value: 1\n",
      "For Loop X Value: 1\n",
      "Generator Start Value: 2\n",
      "For Loop X Value: 2\n",
      "Generator Start Value: 3\n",
      "For Loop X Value: 3\n",
      "Generator Start Value: 4\n",
      "For Loop X Value: 4\n"
     ]
    }
   ],
   "source": [
    "# creating our own range function with start, stop, and step parameters\n",
    "\n",
    "def myRange(stop, start=0, step=1):\n",
    "    while start < stop:\n",
    "        print(\"Generator Start Value: {}\".format(start))\n",
    "        yield start\n",
    "        start += step\n",
    "        \n",
    "for x in myRange(5):\n",
    "    print(\"For Loop X Value: {}\".format(x))"
   ]
  },
  {
   "cell_type": "markdown",
   "metadata": {},
   "source": [
    "# Decorators"
   ]
  },
  {
   "cell_type": "code",
   "execution_count": 60,
   "metadata": {},
   "outputs": [
    {
     "name": "stdout",
     "output_type": "stream",
     "text": [
      "=======\n",
      "John!\n",
      "=======\n"
     ]
    }
   ],
   "source": [
    "# creating and applying our own decorator using the @ symbol\n",
    "\n",
    "def decorator(func):\n",
    "    def wrap():\n",
    "        print(\"=======\")\n",
    "        func()\n",
    "        print(\"=======\")\n",
    "    return wrap\n",
    "\n",
    "@decorator\n",
    "def printName():\n",
    "    print(\"John!\")\n",
    "    \n",
    "printName()"
   ]
  },
  {
   "cell_type": "code",
   "execution_count": 57,
   "metadata": {},
   "outputs": [
    {
     "name": "stdout",
     "output_type": "stream",
     "text": [
      "Hello!\n",
      "Hello!\n",
      "Hello!\n",
      "Hello!\n"
     ]
    }
   ],
   "source": [
    "# creating a decorator that takes in parameters\n",
    "\n",
    "def run_times(num):\n",
    "    def wrap(func):\n",
    "        for i in range(num):\n",
    "            func()\n",
    "    return wrap\n",
    "\n",
    "@run_times(4)\n",
    "def sayHello():\n",
    "    print(\"Hello!\")"
   ]
  },
  {
   "cell_type": "code",
   "execution_count": 65,
   "metadata": {},
   "outputs": [
    {
     "name": "stdout",
     "output_type": "stream",
     "text": [
      "Happy birthday Paul, you are now 44.\n"
     ]
    }
   ],
   "source": [
    "# creating a decorator for a function that accepts parameters\n",
    "\n",
    "def birthday(func):\n",
    "    def wrap(name, age):\n",
    "        func(name, age + 1)\n",
    "    return wrap\n",
    "\n",
    "@birthday\n",
    "def celebrate(name, age):\n",
    "    print(\"Happy birthday {}, you are now {}.\".format(name, age))\n",
    "    \n",
    "celebrate(\"Paul\", 43)"
   ]
  },
  {
   "cell_type": "code",
   "execution_count": 75,
   "metadata": {},
   "outputs": [
    {
     "name": "stdout",
     "output_type": "stream",
     "text": [
      "What is the password?klj;\n",
      "Access Denied\n"
     ]
    }
   ],
   "source": [
    "# real world sim, restricting function access\n",
    "\n",
    "def login_required(func):\n",
    "    def wrap(user):\n",
    "        password = input(\"What is the password?\")\n",
    "        if password == user[\"password\"]:\n",
    "            func(user)\n",
    "        else:\n",
    "            print(\"Access Denied\")\n",
    "    return wrap\n",
    "\n",
    "@login_required\n",
    "def restrictedFunc(user):\n",
    "    print(\"Access granted, welcome {}\".format(user[\"name\"]))\n",
    "    \n",
    "user = { \"name\" : \"Jess\", \"password\" : \"ilywpf\" }\n",
    "          \n",
    "restrictedFunc(user)"
   ]
  },
  {
   "cell_type": "markdown",
   "metadata": {
    "collapsed": true
   },
   "source": [
    "# Modules"
   ]
  },
  {
   "cell_type": "code",
   "execution_count": 8,
   "metadata": {},
   "outputs": [
    {
     "name": "stdout",
     "output_type": "stream",
     "text": [
      "2\n",
      "3\n",
      "3.141592653589793\n"
     ]
    }
   ],
   "source": [
    "# import the entire math module\n",
    "import math\n",
    "\n",
    "print(math.floor(2.5))\n",
    "print(math.ceil(2.5))\n",
    "print(math.pi)"
   ]
  },
  {
   "cell_type": "code",
   "execution_count": 2,
   "metadata": {},
   "outputs": [
    {
     "name": "stdout",
     "output_type": "stream",
     "text": [
      "2\n",
      "3.141592653589793\n"
     ]
    }
   ],
   "source": [
    "# importing only variables and functions rather than an entire module, better efficiency\n",
    "from math import floor, pi\n",
    "\n",
    "print(floor(2.5))\n",
    "# print(ceil(2.5))    will cause error because we only imported floor and pi, not ceil and not all of math\n",
    "print(pi)"
   ]
  },
  {
   "cell_type": "code",
   "execution_count": 4,
   "metadata": {},
   "outputs": [
    {
     "name": "stdout",
     "output_type": "stream",
     "text": [
      "2\n"
     ]
    }
   ],
   "source": [
    "# using the 'as' keyword to create an alias for imports\n",
    "from math import floor as f\n",
    "\n",
    "print(f(2.5))"
   ]
  },
  {
   "cell_type": "code",
   "execution_count": 7,
   "metadata": {},
   "outputs": [
    {
     "name": "stdout",
     "output_type": "stream",
     "text": [
      "5 10\n",
      "John Smith is 37 years old.\n"
     ]
    }
   ],
   "source": [
    "# using the run command with Jupyter Notebook to access our own modules\n",
    "%run test.py\n",
    "\n",
    "print(length, width)\n",
    "\n",
    "printInfo('John Smith', 37)"
   ]
  },
  {
   "cell_type": "markdown",
   "metadata": {
    "collapsed": true
   },
   "source": [
    "# Understanding Algorithmic Complexity"
   ]
  },
  {
   "cell_type": "code",
   "execution_count": 2,
   "metadata": {
    "collapsed": true
   },
   "outputs": [],
   "source": [
    "# creating data collections to test for time complexity\n",
    "import time\n",
    "\n",
    "d = {}  # generate fake dictionary\n",
    "\n",
    "for i in range(10000000):\n",
    "    d[i] = 'value'\n",
    "    \n",
    "big_list = [x for x in range(10000000)]   # generate fake list"
   ]
  },
  {
   "cell_type": "code",
   "execution_count": 14,
   "metadata": {},
   "outputs": [
    {
     "name": "stdout",
     "output_type": "stream",
     "text": [
      "Found in dictionary\n",
      "Elapsed time for dictionary: 0.0\n",
      "Found in list\n",
      "Elapsed time for list: 0.10376596450805664\n"
     ]
    }
   ],
   "source": [
    "# retrieving information and tracking time to see which is faster\n",
    "\n",
    "start_time = time.time()    # tracking time for dictionary\n",
    "\n",
    "if 9999999 in d:\n",
    "    print('Found in dictionary')\n",
    "\n",
    "end_time = time.time() - start_time\n",
    "\n",
    "print('Elapsed time for dictionary: {}'.format(end_time))\n",
    "\n",
    "start_time = time.time()  # tracking time for list\n",
    "\n",
    "if 9999999 in big_list:\n",
    "    print('Found in list')\n",
    "\n",
    "end_time = time.time() - start_time\n",
    "\n",
    "print('Elapsed time for list: {}'.format(end_time))"
   ]
  },
  {
   "cell_type": "code",
   "execution_count": 31,
   "metadata": {
    "collapsed": true
   },
   "outputs": [],
   "source": [
    "# testing a bubble sort vs. insertion sort\n",
    "\n",
    "def bubbleSort(aList):\n",
    "    for i in range(len(aList)):\n",
    "        switched = False\n",
    "        for j in range(len(aList) - 1):\n",
    "            if aList[j] > aList[j + 1]:\n",
    "                aList[j], aList[j + 1] = aList[j + 1], aList[j]\n",
    "                switched = True\n",
    "        if switched == False:\n",
    "            break\n",
    "    return aList\n",
    "\n",
    "def insertionSort(aList):\n",
    "    for i in range(1, len(aList)):\n",
    "        if aList[i] < aList[i - 1]:\n",
    "            for j in range(i, 0, -1):\n",
    "                if aList[j] < aList[j - 1]:\n",
    "                    aList[j], aList[j - 1] = aList[j - 1], aList[j]\n",
    "                else:\n",
    "                    break\n",
    "    return aList"
   ]
  },
  {
   "cell_type": "code",
   "execution_count": 36,
   "metadata": {},
   "outputs": [
    {
     "name": "stdout",
     "output_type": "stream",
     "text": [
      "Elapsed time for Bubble Sort: 2.801460027694702\n",
      "Elapsed time for Insertion Sort: 0.0009980201721191406\n"
     ]
    }
   ],
   "source": [
    "# calling bubble sort and insertion sort to test time complexity\n",
    "from random import randint\n",
    "\n",
    "nums = [randint(0, 100) for x in range(5000)]\n",
    "\n",
    "start_time = time.time()  # tracking time bubble sort\n",
    "bubbleSort(nums[:])\n",
    "end_time = time.time() - start_time\n",
    "print('Elapsed time for Bubble Sort: {}'.format(end_time))\n",
    "\n",
    "start_time = time.time()  # tracking time insertion sort\n",
    "insertionSort(nums)\n",
    "end_time = time.time() - start_time\n",
    "print('Elapsed time for Insertion Sort: {}'.format(end_time))"
   ]
  },
  {
   "cell_type": "markdown",
   "metadata": {},
   "source": [
    "# Monday Exercises - Answers"
   ]
  },
  {
   "cell_type": "markdown",
   "metadata": {},
   "source": [
    "<p>\n",
    "1. <b>Reverse Iteration:</b> Create an iterator that takes in a list and when iterated over, it returns the information in a reverse order. Hint: When accepting arguments into an iterator, you need to use the init method, as well as iter and next. The call below should result in \"5, 4, 3, 2, 1\".\n",
    "</p>\n",
    "\n",
    "<p>\n",
    ">>> for i in RevIter([1, 2, 3, 4, 5]):\n",
    "</p>"
   ]
  },
  {
   "cell_type": "code",
   "execution_count": 2,
   "metadata": {},
   "outputs": [
    {
     "name": "stdout",
     "output_type": "stream",
     "text": [
      "5\n",
      "4\n",
      "3\n",
      "2\n",
      "1\n"
     ]
    }
   ],
   "source": [
    "# creating an iterator that will iterate an iterable in reverse direction\n",
    "\n",
    "class ReverseIter():\n",
    "    def __init__(self, items):\n",
    "        self.items = items\n",
    "        self.i = len(items) - 1\n",
    "    \n",
    "    def __iter__(self):\n",
    "        return self\n",
    "    \n",
    "    def __next__(self):\n",
    "        if self.i >= 0:\n",
    "            item = self.items[self.i]\n",
    "            self.i -= 1\n",
    "            return item\n",
    "        else:\n",
    "            raise StopIteration\n",
    "            \n",
    "rev_iter = ReverseIter([1, 2, 3, 4, 5])\n",
    "\n",
    "\n",
    "for num in rev_iter:\n",
    "    print(num)"
   ]
  },
  {
   "cell_type": "markdown",
   "metadata": {},
   "source": [
    "<p>\n",
    "2. <b>Squares:</b> Create a generator that acts like the range function, except it yields a squared number every time. The result of the call below should be \"0, 1, 4, 16\".\n",
    "</p>\n",
    "\n",
    "<p>\n",
    ">>> for i in range(4):\n",
    "</p>"
   ]
  },
  {
   "cell_type": "code",
   "execution_count": 5,
   "metadata": {},
   "outputs": [
    {
     "name": "stdout",
     "output_type": "stream",
     "text": [
      "0\n",
      "1\n",
      "4\n",
      "9\n",
      "16\n"
     ]
    }
   ],
   "source": [
    "def squared(n):\n",
    "    for i in range(n + 1):\n",
    "        yield i**2\n",
    "        \n",
    "for x in squared(4):\n",
    "    print(x)"
   ]
  },
  {
   "cell_type": "markdown",
   "metadata": {},
   "source": [
    "# Tuesday Exercises - Answers"
   ]
  },
  {
   "cell_type": "markdown",
   "metadata": {},
   "source": [
    "<p>\n",
    "1. <b>User Input:</b> Create a decorator that will ask the user for a number and run the function it is attached to only if the number is less than 100. The function should simply output “Less than 100”. Use the function declaration below:\n",
    "</p>\n",
    "\n",
    "<p>\n",
    ">>> @decorator <br>\n",
    ">>> def numbers(): <br>\n",
    ">>>&nbsp;&nbsp;&nbsp;&nbsp;&nbsp;&nbsp;print(\"Less than 100\")\n",
    "</p>"
   ]
  },
  {
   "cell_type": "code",
   "execution_count": 9,
   "metadata": {},
   "outputs": [
    {
     "name": "stdout",
     "output_type": "stream",
     "text": [
      "Enter a number: 1000\n"
     ]
    }
   ],
   "source": [
    "def decorator(f):\n",
    "    def wrap():\n",
    "        num = int(input(\"Enter a number: \"))\n",
    "        if num < 100:\n",
    "            f()\n",
    "    return wrap\n",
    "\n",
    "@decorator\n",
    "def numbers():\n",
    "    print(\"Less than 100\")\n",
    "    \n",
    "numbers()"
   ]
  },
  {
   "cell_type": "markdown",
   "metadata": {},
   "source": [
    "<p>\n",
    "2. <b>Creating a Route:</b> Create a decorator that takes in a string as an argument with a wrap function that takes in func. Have the wrap function print out the string and run the function passed in. The function passed in doesn’t need to do anything. In Flask, you can create a page by using decorators that accept a url string. Use the function declaration below to start:\n",
    "</p>\n",
    "\n",
    "<p>\n",
    ">>> @route(\"/index\") <br>\n",
    ">>> def index(): <br>\n",
    ">>>&nbsp;&nbsp;&nbsp;&nbsp;&nbsp;&nbsp;print(\"This is how web pages are made in Flask\")\n",
    "</p>"
   ]
  },
  {
   "cell_type": "code",
   "execution_count": 10,
   "metadata": {},
   "outputs": [
    {
     "name": "stdout",
     "output_type": "stream",
     "text": [
      "/index\n",
      "This is how web pages are made in Flask\n"
     ]
    }
   ],
   "source": [
    "def route(endpoint):\n",
    "    def wrap(f):\n",
    "        print(endpoint)\n",
    "        f()\n",
    "    return wrap\n",
    "\n",
    "@route(\"/index\")\n",
    "def index():\n",
    "    print(\"This is how web pages are made in Flask\")"
   ]
  },
  {
   "cell_type": "markdown",
   "metadata": {},
   "source": [
    "# Wednesday Exercises - Answers"
   ]
  },
  {
   "cell_type": "markdown",
   "metadata": {},
   "source": [
    "<p>\n",
    "1. <b>Time Module:</b> Import the time module and call the sleep function. Make the cell sleep for 5 seconds, and then print “Time module imported”. Although we haven’t covered this module, this exercise will provide good practice for you to try and work with a module on your own. Feel free to use Google, Quora, etc.\n",
    "</p>"
   ]
  },
  {
   "cell_type": "code",
   "execution_count": 11,
   "metadata": {},
   "outputs": [
    {
     "name": "stdout",
     "output_type": "stream",
     "text": [
      "Time module imported\n"
     ]
    }
   ],
   "source": [
    "import time\n",
    "\n",
    "time.sleep(5)\n",
    "\n",
    "print(\"Time module imported\")"
   ]
  },
  {
   "cell_type": "markdown",
   "metadata": {},
   "source": [
    "<p>\n",
    "2. <b>Calculating Area:</b> Create a module named “calculation.py” that has a single function within it. That function should take in two parameters and return the product of them. We can imagine that we’re trying to calculate the area of a rectangle and it needs to take in the length and width properties. Run the module within Jupyter Notebook and use the function call below within the cell:\n",
    "</p>\n",
    "\n",
    "<p>\n",
    ">>> calcArea(15, 30)\n",
    "</p>"
   ]
  },
  {
   "cell_type": "code",
   "execution_count": 12,
   "metadata": {},
   "outputs": [
    {
     "name": "stdout",
     "output_type": "stream",
     "text": [
      "450\n"
     ]
    }
   ],
   "source": [
    "%run calculation.py\n",
    "\n",
    "print(calcArea(15, 30))"
   ]
  },
  {
   "cell_type": "markdown",
   "metadata": {},
   "source": [
    "# Thursday Exercises - Answers"
   ]
  },
  {
   "cell_type": "markdown",
   "metadata": {},
   "source": [
    "<p>\n",
    "1. <b>Merge Sort:</b> Do some research and try to find out the \"Big-O\" representation for a Merge Sort algorithm.\n",
    "</p>"
   ]
  },
  {
   "cell_type": "markdown",
   "metadata": {},
   "source": [
    "<p>\n",
    "Merge sort is O(nLogn)\n",
    "</p>"
   ]
  },
  {
   "cell_type": "markdown",
   "metadata": {},
   "source": [
    "<p>\n",
    "2. <b>Binary Search:</b> What is the max number of guesses it would take for a Binary Search to find a number within a list of 10 million numbers?\n",
    "</p>"
   ]
  },
  {
   "cell_type": "code",
   "execution_count": 26,
   "metadata": {
    "collapsed": true
   },
   "outputs": [],
   "source": [
    "nums = [x for x in range(10000000)]"
   ]
  },
  {
   "cell_type": "code",
   "execution_count": 28,
   "metadata": {},
   "outputs": [
    {
     "name": "stdout",
     "output_type": "stream",
     "text": [
      "# of items in list: 10000000 \t\t # of guesses: 0\n",
      "# of items in list: 5000000 \t\t # of guesses: 1\n",
      "# of items in list: 2500000 \t\t # of guesses: 2\n",
      "# of items in list: 1250000 \t\t # of guesses: 3\n",
      "# of items in list: 625000 \t\t # of guesses: 4\n",
      "# of items in list: 312500 \t\t # of guesses: 5\n",
      "# of items in list: 156250 \t\t # of guesses: 6\n",
      "# of items in list: 78125 \t\t # of guesses: 7\n",
      "# of items in list: 39062 \t\t # of guesses: 8\n",
      "# of items in list: 19531 \t\t # of guesses: 9\n",
      "# of items in list: 9765 \t\t # of guesses: 10\n",
      "# of items in list: 4882 \t\t # of guesses: 11\n",
      "# of items in list: 2441 \t\t # of guesses: 12\n",
      "# of items in list: 1220 \t\t # of guesses: 13\n",
      "# of items in list: 610 \t\t # of guesses: 14\n",
      "# of items in list: 305 \t\t # of guesses: 15\n",
      "# of items in list: 152 \t\t # of guesses: 16\n",
      "# of items in list: 76 \t\t # of guesses: 17\n",
      "# of items in list: 38 \t\t # of guesses: 18\n",
      "# of items in list: 19 \t\t # of guesses: 19\n",
      "# of items in list: 9 \t\t # of guesses: 20\n",
      "# of items in list: 4 \t\t # of guesses: 21\n",
      "# of items in list: 2 \t\t # of guesses: 22\n",
      "# of items in list: 1 \t\t # of guesses: 23\n"
     ]
    },
    {
     "data": {
      "text/plain": [
       "True"
      ]
     },
     "execution_count": 28,
     "metadata": {},
     "output_type": "execute_result"
    }
   ],
   "source": [
    "def binarySearch(aList, num):\n",
    "    guesses = 0\n",
    "    \n",
    "    while aList:\n",
    "        print(\"# of items in list: {} \\t\\t # of guesses: {}\".format(len(aList), guesses))\n",
    "        guesses += 1\n",
    "        \n",
    "        mid = len(aList) // 2\n",
    "\n",
    "        if aList[mid] == num:\n",
    "            return True\n",
    "        elif aList[mid] > num:\n",
    "            aList = aList[ : mid ]\n",
    "        elif aList[mid] < num:\n",
    "            aList = aList[ mid + 1 : ]\n",
    "    \n",
    "    return False\n",
    "\n",
    "binarySearch(nums, 0)\n",
    "\n",
    "# the answer is 23"
   ]
  },
  {
   "cell_type": "markdown",
   "metadata": {},
   "source": [
    "# End of Week Exercises - Answers"
   ]
  },
  {
   "cell_type": "markdown",
   "metadata": {},
   "source": [
    "<p>\n",
    "1. <b>Side Borders:</b> In the Friday project, we ended up creating borders above and below the information printed out. Try adding a star border on the sides as well now.\n",
    "</p>"
   ]
  },
  {
   "cell_type": "code",
   "execution_count": 35,
   "metadata": {},
   "outputs": [
    {
     "name": "stdout",
     "output_type": "stream",
     "text": [
      "**************************************************\n",
      "*\t\tCoding Temple, Inc.\t\t *\n",
      "*\t\t283 Franklin St.\t\t *\n",
      "*\t\tBoston, Ma\t\t\t *\n",
      "*================================================*\n",
      "*\tProduct Name\tProduct Price\t\t *\n",
      "*\tBooks\t\t$49.95\t\t\t *\n",
      "*\tComputer\t$579.99\t\t\t *\n",
      "*\tMonitor\t\t$124.89\t\t\t *\n",
      "*================================================*\n",
      "*\t\t\tTotal\t\t\t *\n",
      "*\t\t\t$754.83\t\t\t *\n",
      "*================================================*\n",
      "*\t\t\t\t\t\t *\n",
      "*\tThanks for shopping with us today!\t *\n",
      "*\t\t\t\t\t\t *\n",
      "**************************************************\n"
     ]
    }
   ],
   "source": [
    "# create a product and price for three items\n",
    "p1_name, p1_price = 'Books', 49.95\n",
    "p2_name, p2_price = 'Computer', 579.99\n",
    "p3_name, p3_price = 'Monitor', 124.89\n",
    "\n",
    "# create a company name and information\n",
    "company_name = 'coding temple, inc.'\n",
    "company_address = '283 Franklin St.'\n",
    "company_city = 'Boston, MA'\n",
    "\n",
    "# declare ending message\n",
    "message = 'Thanks for shopping with us today!'\n",
    "\n",
    "# create a top border\n",
    "print('*' * 50)\n",
    "\n",
    "# print company information first using format\n",
    "print('*\\t\\t{}\\t\\t *'.format(company_name.title()))\n",
    "print('*\\t\\t{}\\t\\t *'.format(company_address.title()))\n",
    "print('*\\t\\t{}\\t\\t\\t *'.format(company_city.title()))\n",
    "\n",
    "# print a line between sections\n",
    "print('*' + '=' * 48 + '*')\n",
    "\n",
    "# print out header for section of items\n",
    "print('*\\tProduct Name\\tProduct Price\\t\\t *')\n",
    "\n",
    "# create a print statement for each item\n",
    "print('*\\t{}\\t\\t${}\\t\\t\\t *'.format(p1_name.title(), p1_price))\n",
    "print('*\\t{}\\t${}\\t\\t\\t *'.format(p2_name.title(), p2_price))\n",
    "print('*\\t{}\\t\\t${}\\t\\t\\t *'.format(p3_name.title(), p3_price))\n",
    "\n",
    "# print a line between sections\n",
    "print('*' + '=' * 48 + '*')\n",
    "\n",
    "# print out header for section of total\n",
    "print('*\\t\\t\\tTotal\\t\\t\\t *')\n",
    "\n",
    "# calculate total price and print out\n",
    "total = p1_price + p2_price + p3_price\n",
    "print('*\\t\\t\\t${}\\t\\t\\t *'.format(total))\n",
    "\n",
    "# print a line between sections\n",
    "print('*' + '=' * 48 + '*')\n",
    "\n",
    "# output thank you message\n",
    "print('*\\t\\t\\t\\t\\t\\t *\\n*\\t{}\\t *\\n*\\t\\t\\t\\t\\t\\t *'.format(message))\n",
    "\n",
    "# create a bottom border\n",
    "print('*' * 50)"
   ]
  },
  {
   "cell_type": "markdown",
   "metadata": {},
   "source": [
    "<p>\n",
    "2. <b>Researching Methods:</b> We've gone over a few of the string manipulation methods that are widely used; however, there's many more, try looking up some and implementing them.\n",
    "</p>"
   ]
  },
  {
   "cell_type": "markdown",
   "metadata": {},
   "source": [
    "<p>\n",
    "3. <b>Reverse:</b> Declare a variable equal to \"Hello\". Reverse the string using slicing. Try looking it up if you struggle. Tip: You can define a start, stop, and step when slicing.\n",
    "</p>"
   ]
  },
  {
   "cell_type": "code",
   "execution_count": 16,
   "metadata": {},
   "outputs": [
    {
     "name": "stdout",
     "output_type": "stream",
     "text": [
      "olleH\n"
     ]
    }
   ],
   "source": [
    "s = \"Hello\"\n",
    "\n",
    "print(s[::-1])"
   ]
  },
  {
   "cell_type": "code",
   "execution_count": 1,
   "metadata": {},
   "outputs": [
    {
     "name": "stdout",
     "output_type": "stream",
     "text": [
      "worked\n"
     ]
    }
   ],
   "source": [
    "import time\n",
    "\n",
    "time.sleep(5)\n",
    "\n",
    "print('worked')"
   ]
  }
 ],
 "metadata": {
  "kernelspec": {
   "display_name": "Python 3",
   "language": "python",
   "name": "python3"
  },
  "language_info": {
   "codemirror_mode": {
    "name": "ipython",
    "version": 3
   },
   "file_extension": ".py",
   "mimetype": "text/x-python",
   "name": "python",
   "nbconvert_exporter": "python",
   "pygments_lexer": "ipython3",
   "version": "3.6.5"
  }
 },
 "nbformat": 4,
 "nbformat_minor": 2
}
